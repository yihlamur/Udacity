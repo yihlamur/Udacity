{
 "cells": [
  {
   "cell_type": "code",
   "execution_count": 15,
   "metadata": {
    "scrolled": true
   },
   "outputs": [
    {
     "name": "stdout",
     "output_type": "stream",
     "text": [
      "first account key in the sheet: 448\n",
      "OrderedDict([('acct', '0'), ('utc_date', '2015-01-09'), ('num_courses_visited', '1.0'), ('total_minutes_visited', '11.6793745'), ('lessons_completed', '0.0'), ('projects_completed', '0.0')])\n"
     ]
    }
   ],
   "source": [
    "import unicodecsv\n",
    "\n",
    "def read_csv(file_name):\n",
    "    with open(file_name, 'rb') as f:\n",
    "        reader = unicodecsv.DictReader(f)\n",
    "        return list(reader)\n",
    "\n",
    "enrollments = read_csv('enrollments.csv')\n",
    "engagements = read_csv('daily_engagement.csv')\n",
    "\n",
    "# calling account_key of the first item    \n",
    "print('first account key in the sheet: ' + enrollments[0]['account_key'])\n",
    "\n",
    "print(engagements[0])"
   ]
  },
  {
   "cell_type": "code",
   "execution_count": null,
   "metadata": {},
   "outputs": [],
   "source": []
  }
 ],
 "metadata": {
  "kernelspec": {
   "display_name": "Python [conda env:py3]",
   "language": "python",
   "name": "conda-env-py3-py"
  },
  "language_info": {
   "codemirror_mode": {
    "name": "ipython",
    "version": 3
   },
   "file_extension": ".py",
   "mimetype": "text/x-python",
   "name": "python",
   "nbconvert_exporter": "python",
   "pygments_lexer": "ipython3",
   "version": "3.6.3"
  }
 },
 "nbformat": 4,
 "nbformat_minor": 2
}
